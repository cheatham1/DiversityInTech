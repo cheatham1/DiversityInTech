{
 "cells": [
  {
   "cell_type": "markdown",
   "metadata": {},
   "source": [
    "# Diversity in Tech\n",
    "\n",
    "## Inspired by Information is Beautiful\n",
    "https://informationisbeautiful.net/visualizations/diversity-in-tech/"
   ]
  },
  {
   "cell_type": "code",
   "execution_count": null,
   "metadata": {
    "collapsed": true
   },
   "outputs": [],
   "source": [
    "# There are numerous libraries for plotting and data visualisation\n",
    "import pandas as pd\n",
    "import numpy as np\n",
    "import matplotlib.pyplot as plt\n",
    "\n",
    "# Inline means your matplotlib graphs will be included in your notebook\n",
    "%matplotlib inline\n",
    "\n",
    "# Runtime conguration (rc) parameters allow customization\n",
    "from matplotlib import rcParams\n",
    "# Define size of figures\n",
    "rcParams['figure.figsize'] = 10, 8"
   ]
  },
  {
   "cell_type": "code",
   "execution_count": null,
   "metadata": {
    "collapsed": true
   },
   "outputs": [],
   "source": [
    "# excel file\n",
    "file = \"Data/Diversity.xlsx\""
   ]
  },
  {
   "cell_type": "code",
   "execution_count": null,
   "metadata": {
    "collapsed": true
   },
   "outputs": [],
   "source": [
    "# read in data\n",
    "data = pd.read_excel(file,index_col=0)"
   ]
  },
  {
   "cell_type": "code",
   "execution_count": null,
   "metadata": {},
   "outputs": [],
   "source": [
    "# Look at the data\n",
    "data"
   ]
  },
  {
   "cell_type": "code",
   "execution_count": null,
   "metadata": {},
   "outputs": [],
   "source": [
    "# round to 2 dp\n",
    "data = data.round(decimals=2)\n",
    "data.head()"
   ]
  },
  {
   "cell_type": "code",
   "execution_count": null,
   "metadata": {},
   "outputs": [],
   "source": [
    "# Look at the column headings\n",
    "data.columns"
   ]
  },
  {
   "cell_type": "code",
   "execution_count": null,
   "metadata": {},
   "outputs": [],
   "source": [
    "# slice data according to row names\n",
    "data_socialmedia = data['Facebook':'Twitter']\n",
    "\n",
    "# check data as expected\n",
    "data_socialmedia"
   ]
  },
  {
   "cell_type": "code",
   "execution_count": null,
   "metadata": {},
   "outputs": [],
   "source": [
    "# slice data according to row names\n",
    "data_tech = data['Yahoo!':'Yelp']\n",
    "\n",
    "# check data as expected\n",
    "data_tech"
   ]
  },
  {
   "cell_type": "code",
   "execution_count": null,
   "metadata": {
    "collapsed": true
   },
   "outputs": [],
   "source": [
    "# slice data again, this time male and female - according to column names\n",
    "data_female_sm = data_socialmedia['Female %']\n",
    "data_male_sm = data_socialmedia['Male %']"
   ]
  },
  {
   "cell_type": "code",
   "execution_count": null,
   "metadata": {},
   "outputs": [],
   "source": [
    "# plot horizontal bar graph\n",
    "data_female_sm.plot(kind='barh', color = 'darkred')"
   ]
  },
  {
   "cell_type": "code",
   "execution_count": null,
   "metadata": {
    "scrolled": true
   },
   "outputs": [],
   "source": [
    "data_male_sm.plot(kind='barh', color = 'darkblue')"
   ]
  },
  {
   "cell_type": "code",
   "execution_count": null,
   "metadata": {
    "collapsed": true
   },
   "outputs": [],
   "source": []
  },
  {
   "cell_type": "code",
   "execution_count": null,
   "metadata": {
    "collapsed": true
   },
   "outputs": [],
   "source": [
    "ind = np.arange(2) "
   ]
  },
  {
   "cell_type": "code",
   "execution_count": null,
   "metadata": {
    "collapsed": true
   },
   "outputs": [],
   "source": [
    "width = 0.35"
   ]
  },
  {
   "cell_type": "code",
   "execution_count": null,
   "metadata": {
    "collapsed": true
   },
   "outputs": [],
   "source": [
    "data_sm = np.add(data_male_sm, data_female_sm)"
   ]
  },
  {
   "cell_type": "code",
   "execution_count": null,
   "metadata": {},
   "outputs": [],
   "source": [
    "data_sm.head()"
   ]
  },
  {
   "cell_type": "code",
   "execution_count": null,
   "metadata": {},
   "outputs": [],
   "source": [
    "data_sm.plot(kind='barh', color = 'darkblue')\n",
    "data_female_sm.plot(kind='barh', color = 'darkred')"
   ]
  },
  {
   "cell_type": "code",
   "execution_count": null,
   "metadata": {},
   "outputs": [],
   "source": [
    "# Create stacked bar graph\n",
    "p = data_sm.plot(kind='barh', color = 'darkblue', title = 'Gender Diversity in Tech: Social Media', fontsize = 20)\n",
    "p = data_female_sm.plot(kind='barh', color = 'darkred')\n",
    "\n",
    "# set the x-axis limits\n",
    "p.set_xlim(0,100)\n",
    "\n",
    "# set the x-axis label\n",
    "p.set_xlabel('Percentage')"
   ]
  },
  {
   "cell_type": "code",
   "execution_count": null,
   "metadata": {},
   "outputs": [],
   "source": [
    "plt.bar(data_male_sm.index, data_male_sm, color=\"darkblue\")"
   ]
  },
  {
   "cell_type": "code",
   "execution_count": null,
   "metadata": {},
   "outputs": [],
   "source": [
    "plt.bar(data_sm.index, data_sm, color=\"darkblue\")\n",
    "plt.bar(data_female_sm.index, data_male_sm, color=\"darkred\")"
   ]
  },
  {
   "cell_type": "code",
   "execution_count": null,
   "metadata": {},
   "outputs": [],
   "source": [
    "plt.barh(data_sm.index, data_sm, color=\"darkblue\")\n",
    "plt.barh(data_female_sm.index, data_male_sm, color=\"darkred\")"
   ]
  },
  {
   "cell_type": "code",
   "execution_count": null,
   "metadata": {},
   "outputs": [],
   "source": [
    "plt.barh(data_sm.index, data_sm, color=\"darkblue\")\n",
    "plt.barh(data_female_sm.index, data_male_sm, color=\"darkred\")\n",
    "\n",
    "plt.ylabel('Social Media Sites', fontsize=15)\n",
    "plt.xlabel('% workforce', fontsize=15)\n",
    "plt.title(\"Gender Diversity in Tech: Social Media\", fontsize=18)\n",
    "\n",
    "# set x-axis limits\n",
    "plt.xlim(0,100)\n",
    "\n",
    "# save as png file \n",
    "plt.savefig(\"GenderDiversitySocialMedia.png\")\n"
   ]
  },
  {
   "cell_type": "code",
   "execution_count": null,
   "metadata": {
    "collapsed": true
   },
   "outputs": [],
   "source": [
    "# Draw similar plots for the Tech companies"
   ]
  },
  {
   "cell_type": "code",
   "execution_count": null,
   "metadata": {
    "collapsed": true
   },
   "outputs": [],
   "source": [
    "# Change the colours"
   ]
  },
  {
   "cell_type": "code",
   "execution_count": null,
   "metadata": {
    "collapsed": true
   },
   "outputs": [],
   "source": [
    "# Plot and save the figure"
   ]
  },
  {
   "cell_type": "code",
   "execution_count": null,
   "metadata": {
    "collapsed": true
   },
   "outputs": [],
   "source": [
    "# Look at the original data you read in \n",
    "# Can you plot 2 or more of theses to show diversity? % White \t% Asian \t% Latino \t% Black    ?"
   ]
  },
  {
   "cell_type": "code",
   "execution_count": null,
   "metadata": {
    "collapsed": true
   },
   "outputs": [],
   "source": []
  }
 ],
 "metadata": {
  "kernelspec": {
   "display_name": "Python 3",
   "language": "python",
   "name": "python3"
  },
  "language_info": {
   "codemirror_mode": {
    "name": "ipython",
    "version": 3
   },
   "file_extension": ".py",
   "mimetype": "text/x-python",
   "name": "python",
   "nbconvert_exporter": "python",
   "pygments_lexer": "ipython3",
   "version": "3.6.8"
  }
 },
 "nbformat": 4,
 "nbformat_minor": 2
}
